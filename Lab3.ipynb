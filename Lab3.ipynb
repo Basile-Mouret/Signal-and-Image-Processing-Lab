{
 "cells": [
  {
   "cell_type": "markdown",
   "id": "dd070477",
   "metadata": {},
   "source": [
    "\n",
    "# SIP Lab 3 : Discrete cosine transform, Introduction to JPEG.\n",
    "\n",
    "### Basile Mouret, Malik Hacini"
   ]
  },
  {
   "cell_type": "markdown",
   "id": "a01c6234",
   "metadata": {},
   "source": [
    "## Exercice 1\n"
   ]
  },
  {
   "cell_type": "markdown",
   "id": "f7d58ee6",
   "metadata": {},
   "source": [
    "### Question 1"
   ]
  },
  {
   "cell_type": "markdown",
   "id": "e67a6c22",
   "metadata": {},
   "source": [
    "### Question 2\n",
    "\n",
    "When $k \\neq p$ :\n",
    "$$\n",
    "\\begin{align}\n",
    "\\langle e_k, e_p \\rangle &= \\sum_{n=0}^{L-1} \\frac{2\\lambda_k\\lambda_p}{L} cos(\\frac{k \\pi}L(n+\\frac 12))cos(\\frac{p \\pi}L(n+\\frac 12))\\\\\n",
    "&= \\sum_{n=0}^{L-1} \\frac{2\\lambda_k\\lambda_p}{L} cos(\\frac{(k+p) \\pi}L(n+\\frac 12))+cos(\\frac{(k-p) \\pi}L(n+\\frac 12))\\\\\n",
    "\n",
    "&= \\sum_{n=0}^{L-1} \\frac{2\\lambda_k\\lambda_p}{L} \\Re(e^{i(\\frac{(k+p) \\pi}L(n+\\frac 12))})+\\Re(e^{i(\\frac{(k-p) \\pi}L(n+\\frac 12))})\\\\\n",
    "\n",
    "&= \\frac{2\\lambda_k\\lambda_p}{L} \\Re(e^{i(\\frac{(k+p) \\pi}{2L})}\\sum_{n=0}^{L-1} e^{i(\\frac{(k+p) \\pi}Ln)} + e^{i(\\frac{(k-p) \\pi}{2L})}\\sum_{n=0}^{L-1} e^{i(\\frac{(k-p) \\pi}Ln)})\\\\\n",
    "&= \\frac{2\\lambda_k\\lambda_p}{L} \\Re(e^{i(\\frac{(k+p) \\pi}{2L})} \\frac{1-e^{i((k+p)\\pi}}{1-e^{\\frac{i(k+p)\\pi}L}}+e^{i(\\frac{(k-p) \\pi}{2L})} \\frac{1-e^{i((k-p)\\pi}}{1-e^{\\frac{i(k-p)\\pi}L}})\\\\\n",
    "\\end{align}\n",
    "$$\n",
    "We have $ \\frac{e^{i\\frac x2}}{1-e^{ix}} = \\frac 1{e^{-i\\frac x 2}+e^{i\\frac x 2}} = i\\frac 2{sin(\\frac x 2)}$\n",
    "$$\n",
    "\\langle e_k, e_p \\rangle = \\frac{2\\lambda_k\\lambda_p}{L} \\Re(i(\\frac {1-e^{i((k+p)\\pi}}{sin(\\frac{(k+p) \\pi}{2L})}+\\frac {1-e^{i((k-p)\\pi}}{sin(\\frac{(k-p) \\pi}{2L})}))\\\\\n",
    "$$\n",
    "\n",
    "When $k+p$ is even, $1-e^{i((k+p)\\pi}=1-e^{i((k-p)\\pi}=0$,\n",
    "so $ \\langle e_k, e_p \\rangle = 0 $\n",
    "\n",
    "When $k+p$ is odd, $1-e^{i((k+p)\\pi}=1-e^{i((k-p)\\pi}=2$ and $i(\\frac {2}{sin(\\frac{(k+p) \\pi}{2L})}+\\frac {2}{sin(\\frac{(k-p) \\pi}{2L})})$ is imaginary,\n",
    "so $ \\langle e_k, e_p \\rangle = 0 $"
   ]
  },
  {
   "cell_type": "markdown",
   "id": "7bcda95f",
   "metadata": {},
   "source": [
    "### Question 3"
   ]
  },
  {
   "cell_type": "markdown",
   "id": "54a3f8ca",
   "metadata": {},
   "source": [
    "### Question 4"
   ]
  },
  {
   "cell_type": "markdown",
   "id": "7af1717a",
   "metadata": {},
   "source": [
    "### Question 5"
   ]
  },
  {
   "cell_type": "markdown",
   "id": "2fcffc6f",
   "metadata": {},
   "source": [
    "## Exercice 2"
   ]
  },
  {
   "cell_type": "markdown",
   "id": "0bffb85b",
   "metadata": {},
   "source": [
    "### Question 1"
   ]
  },
  {
   "cell_type": "markdown",
   "id": "c5d4f6ca",
   "metadata": {},
   "source": [
    "### Question 2"
   ]
  },
  {
   "cell_type": "markdown",
   "id": "89af7d9b",
   "metadata": {},
   "source": [
    "### Question 3"
   ]
  },
  {
   "cell_type": "markdown",
   "id": "88052c39",
   "metadata": {},
   "source": [
    "### Question 4"
   ]
  },
  {
   "cell_type": "markdown",
   "id": "19346b93",
   "metadata": {},
   "source": [
    "### Question 5"
   ]
  }
 ],
 "metadata": {
  "language_info": {
   "name": "python"
  }
 },
 "nbformat": 4,
 "nbformat_minor": 5
}
